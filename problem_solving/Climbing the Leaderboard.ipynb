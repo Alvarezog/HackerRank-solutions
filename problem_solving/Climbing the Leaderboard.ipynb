{
 "cells": [
  {
   "cell_type": "code",
   "execution_count": 14,
   "id": "5fdf68c9",
   "metadata": {},
   "outputs": [],
   "source": [
    "# Building the two lists with the data\n",
    "\n",
    "n = [100, 90, 90, 80, 75, 60]\n",
    "m = [50, 65, 77, 90, 102]\n",
    "result = []\n",
    "\n",
    "#Remove repetitions using set\n",
    "n_2 = list(set(n))\n",
    "\n",
    "#Sort in descending order\n",
    "n_2.sort(reverse=True)"
   ]
  },
  {
   "cell_type": "code",
   "execution_count": 15,
   "id": "62e7ffde",
   "metadata": {},
   "outputs": [],
   "source": [
    "#Iterate through scores \"m\" list.\n",
    "for score in m:\n",
    "    #Start ranking count in 1.\n",
    "    ranking = 1\n",
    "    #Iterate through modified leaders board \"n_2\"\n",
    "    for leaders in n_2:\n",
    "        #If player score is bigger than leaderboard then pass.\n",
    "        if leaders <= score:\n",
    "            result.append(ranking)\n",
    "            break\n",
    "        elif ranking == len(n_2):\n",
    "            result.append(ranking+1)\n",
    "        #If player score is lesser than leaderboard then add 1 to ranking.\n",
    "        else:\n",
    "            ranking += 1"
   ]
  },
  {
   "cell_type": "code",
   "execution_count": 16,
   "id": "1d60e8ca",
   "metadata": {},
   "outputs": [
    {
     "data": {
      "text/plain": [
       "[6, 5, 4, 2, 1]"
      ]
     },
     "execution_count": 16,
     "metadata": {},
     "output_type": "execute_result"
    }
   ],
   "source": [
    "result"
   ]
  }
 ],
 "metadata": {
  "kernelspec": {
   "display_name": "Python 3",
   "language": "python",
   "name": "python3"
  },
  "language_info": {
   "codemirror_mode": {
    "name": "ipython",
    "version": 3
   },
   "file_extension": ".py",
   "mimetype": "text/x-python",
   "name": "python",
   "nbconvert_exporter": "python",
   "pygments_lexer": "ipython3",
   "version": "3.9.7"
  }
 },
 "nbformat": 4,
 "nbformat_minor": 5
}
