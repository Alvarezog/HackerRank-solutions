{
 "cells": [
  {
   "cell_type": "code",
   "execution_count": 1,
   "id": "21d13506",
   "metadata": {},
   "outputs": [],
   "source": [
    "b=10\n",
    "n=2\n",
    "m=3\n",
    "keyboard = [3, 1]\n",
    "drives = [5, 2, 8]"
   ]
  },
  {
   "cell_type": "code",
   "execution_count": 3,
   "id": "2ac836d5",
   "metadata": {},
   "outputs": [
    {
     "name": "stdout",
     "output_type": "stream",
     "text": [
      "9\n"
     ]
    }
   ],
   "source": [
    "#Define budget variable to store the result\n",
    "budget = 0\n",
    "\n",
    "#Iterate through both lists and sum the result in each step.\n",
    "for i in keyboard:\n",
    "    for j in drives:\n",
    "#If the result is bigger than previous results and less or equal than the budget then assign result to budget.\n",
    "        if (i+j) > budget and (i+j) <= b:\n",
    "            budget = i+j\n",
    "#if no combinations could be found then return -1.\n",
    "if budget == 0:\n",
    "    budget = -1\n",
    "    \n",
    "print(budget)"
   ]
  }
 ],
 "metadata": {
  "kernelspec": {
   "display_name": "Python 3",
   "language": "python",
   "name": "python3"
  },
  "language_info": {
   "codemirror_mode": {
    "name": "ipython",
    "version": 3
   },
   "file_extension": ".py",
   "mimetype": "text/x-python",
   "name": "python",
   "nbconvert_exporter": "python",
   "pygments_lexer": "ipython3",
   "version": "3.9.5"
  }
 },
 "nbformat": 4,
 "nbformat_minor": 5
}
