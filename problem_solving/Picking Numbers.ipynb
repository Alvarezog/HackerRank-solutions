{
 "cells": [
  {
   "cell_type": "code",
   "execution_count": 20,
   "id": "dd1fae6b",
   "metadata": {},
   "outputs": [],
   "source": [
    "# Declare list \n",
    "a = [4,6,5,3,3,1]"
   ]
  },
  {
   "cell_type": "code",
   "execution_count": 22,
   "id": "f9bdf332",
   "metadata": {},
   "outputs": [
    {
     "name": "stdout",
     "output_type": "stream",
     "text": [
      "2\n"
     ]
    }
   ],
   "source": [
    "# Declare variable to store the max length of the sub arrays.\n",
    "max_length = 0\n",
    "# Iterate through the list and add 1 to counter if \n",
    "# the absolute difference between the iterator and the iterable is less than or equal to 1.\n",
    "counter = 1\n",
    "for i in range(len(a)-1):\n",
    "    if abs(a[i]-a[i+1]) <= 1:\n",
    "        counter += 1\n",
    "# Else assign the length of counter to max_length and restart the count\n",
    "    else:\n",
    "        max_length = counter\n",
    "        counter = 1\n",
    "\n",
    "if counter > max_length:\n",
    "    max_length = counter\n",
    "print(max_length)"
   ]
  }
 ],
 "metadata": {
  "kernelspec": {
   "display_name": "Python 3",
   "language": "python",
   "name": "python3"
  },
  "language_info": {
   "codemirror_mode": {
    "name": "ipython",
    "version": 3
   },
   "file_extension": ".py",
   "mimetype": "text/x-python",
   "name": "python",
   "nbconvert_exporter": "python",
   "pygments_lexer": "ipython3",
   "version": "3.9.7"
  }
 },
 "nbformat": 4,
 "nbformat_minor": 5
}
