{
 "cells": [
  {
   "cell_type": "code",
   "execution_count": 2,
   "id": "dd1fae6b",
   "metadata": {},
   "outputs": [],
   "source": [
    "# Declare list \n",
    "a = [4,6,5,3,3,1]"
   ]
  },
  {
   "cell_type": "code",
   "execution_count": 3,
   "id": "f9bdf332",
   "metadata": {},
   "outputs": [
    {
     "name": "stdout",
     "output_type": "stream",
     "text": [
      "3\n"
     ]
    }
   ],
   "source": [
    "# Declare variable to store the max length of the sub arrays.\n",
    "max_length = 0\n",
    "# Iterate through the list and add the length of the count of the current number plus the count of currentnumber minus 1.\n",
    "for i in a:\n",
    "    count_i = a.count(i)\n",
    "    count_min_one = a.count(i-1)\n",
    "    # Add the result of the counting functions to variable total.\n",
    "    total = count_i + count_min_one\n",
    "    if total > max_length:\n",
    "        max_length = total\n",
    "\n",
    "print(max_length)"
   ]
  }
 ],
 "metadata": {
  "kernelspec": {
   "display_name": "Python 3",
   "language": "python",
   "name": "python3"
  },
  "language_info": {
   "codemirror_mode": {
    "name": "ipython",
    "version": 3
   },
   "file_extension": ".py",
   "mimetype": "text/x-python",
   "name": "python",
   "nbconvert_exporter": "python",
   "pygments_lexer": "ipython3",
   "version": "3.9.7"
  }
 },
 "nbformat": 4,
 "nbformat_minor": 5
}
