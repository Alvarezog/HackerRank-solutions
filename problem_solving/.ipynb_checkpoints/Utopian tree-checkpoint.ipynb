{
 "cells": [
  {
   "cell_type": "code",
   "execution_count": 5,
   "id": "de6ce136",
   "metadata": {},
   "outputs": [],
   "source": [
    "#Initializing variable for the number of cicles\n",
    "n = 4"
   ]
  },
  {
   "cell_type": "code",
   "execution_count": 7,
   "id": "e9fe9ddc",
   "metadata": {},
   "outputs": [
    {
     "name": "stdout",
     "output_type": "stream",
     "text": [
      "7\n"
     ]
    }
   ],
   "source": [
    "#height of the tree\n",
    "t = 1\n",
    "#Iterate from 0 to n (add 1 to range so it includes n)\n",
    "for i in range(n+1):\n",
    "    #If the cycle is 0 then we don't need to do anything.\n",
    "    if i==0:\n",
    "        pass\n",
    "    #If the cycle is an odd number then it's spring. Multiply height by 2.\n",
    "    elif i%2 != 0:\n",
    "        t = t*2\n",
    "    #If the cycle number is an even number then it's summer. Add 1 to height.\n",
    "    elif i%2 == 0:\n",
    "        t= t+1\n",
    "    \n",
    "print(t)"
   ]
  }
 ],
 "metadata": {
  "kernelspec": {
   "display_name": "Python 3",
   "language": "python",
   "name": "python3"
  },
  "language_info": {
   "codemirror_mode": {
    "name": "ipython",
    "version": 3
   },
   "file_extension": ".py",
   "mimetype": "text/x-python",
   "name": "python",
   "nbconvert_exporter": "python",
   "pygments_lexer": "ipython3",
   "version": "3.9.7"
  }
 },
 "nbformat": 4,
 "nbformat_minor": 5
}
