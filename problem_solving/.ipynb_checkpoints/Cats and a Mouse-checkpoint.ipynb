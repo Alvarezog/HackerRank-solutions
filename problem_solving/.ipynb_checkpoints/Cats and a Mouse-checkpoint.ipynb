{
 "cells": [
  {
   "cell_type": "code",
   "execution_count": 7,
   "id": "90ff2c43",
   "metadata": {},
   "outputs": [],
   "source": [
    "#Declaring variables for cat A(x), Cat B (y), Mouse(z)\n",
    "\n",
    "x=1\n",
    "y=3\n",
    "z=2"
   ]
  },
  {
   "cell_type": "code",
   "execution_count": 8,
   "id": "aa04cdb9",
   "metadata": {},
   "outputs": [
    {
     "name": "stdout",
     "output_type": "stream",
     "text": [
      "Mouse C\n"
     ]
    }
   ],
   "source": [
    "# Obtain the distance between the cat and the mouse that is the square root of the square of the distance\n",
    "# between the two points. Next evaluate which one is smaller and print the result acordingly.\n",
    "if ((x - z)**2)**0.5 < ((y - z)**2)**0.5:\n",
    "    print('Cat A')\n",
    "elif ((y - z)**2)**0.5 < ((x - z)**2)**0.5:\n",
    "    print('Cat B')\n",
    "else:\n",
    "    print('Mouse C')"
   ]
  }
 ],
 "metadata": {
  "kernelspec": {
   "display_name": "Python 3",
   "language": "python",
   "name": "python3"
  },
  "language_info": {
   "codemirror_mode": {
    "name": "ipython",
    "version": 3
   },
   "file_extension": ".py",
   "mimetype": "text/x-python",
   "name": "python",
   "nbconvert_exporter": "python",
   "pygments_lexer": "ipython3",
   "version": "3.9.5"
  }
 },
 "nbformat": 4,
 "nbformat_minor": 5
}
