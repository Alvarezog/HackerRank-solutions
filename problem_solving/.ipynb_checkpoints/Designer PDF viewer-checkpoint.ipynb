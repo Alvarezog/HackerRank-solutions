{
 "cells": [
  {
   "cell_type": "code",
   "execution_count": 6,
   "id": "c8affe62",
   "metadata": {},
   "outputs": [],
   "source": [
    "#Declare variables\n",
    "\n",
    "h = [1, 3, 1, 3, 1, 4, 1, 3, 2, 5, 5, 5, 5, 5, 5, 5, 5, 5, 5, 5, 5, 5, 5, 5, 5, 5]\n",
    "word = 'abc'"
   ]
  },
  {
   "cell_type": "code",
   "execution_count": 5,
   "id": "8b42f747",
   "metadata": {},
   "outputs": [
    {
     "name": "stdout",
     "output_type": "stream",
     "text": [
      "9\n"
     ]
    }
   ],
   "source": [
    "#Finding the tallest letter by iterating through the word.\n",
    "tallest = 0\n",
    "for i in word:\n",
    "    #Covert the selected letter from char to ASCII using ord and substract 97 so the 'a' has value 0 and so on.\n",
    "    if tallest < h[ord(i)-97]:\n",
    "        tallest = h[ord(i)-97]\n",
    "# Calculate area by multiplying the tallest letter by the number of letters by 1\n",
    "area = tallest * len(word) * 1\n",
    "\n",
    "print(area)    "
   ]
  }
 ],
 "metadata": {
  "kernelspec": {
   "display_name": "Python 3",
   "language": "python",
   "name": "python3"
  },
  "language_info": {
   "codemirror_mode": {
    "name": "ipython",
    "version": 3
   },
   "file_extension": ".py",
   "mimetype": "text/x-python",
   "name": "python",
   "nbconvert_exporter": "python",
   "pygments_lexer": "ipython3",
   "version": "3.9.7"
  }
 },
 "nbformat": 4,
 "nbformat_minor": 5
}
