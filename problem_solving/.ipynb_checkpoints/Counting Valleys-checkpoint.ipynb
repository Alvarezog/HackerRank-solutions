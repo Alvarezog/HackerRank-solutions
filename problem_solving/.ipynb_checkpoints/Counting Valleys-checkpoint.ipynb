{
 "cells": [
  {
   "cell_type": "code",
   "execution_count": 8,
   "id": "571f7eb4",
   "metadata": {},
   "outputs": [],
   "source": [
    "#Initializing variables for testing\n",
    "steps = 12\n",
    "path = 'DDUUDDUDUUUD'"
   ]
  },
  {
   "cell_type": "code",
   "execution_count": 10,
   "id": "8d04463b",
   "metadata": {},
   "outputs": [
    {
     "name": "stdout",
     "output_type": "stream",
     "text": [
      "2\n"
     ]
    }
   ],
   "source": [
    "# Defining one variable for counting variables, one variable for accumulating the current level and one variable that tell\n",
    "# us if we are currently in a valley.\n",
    "valleys = 0\n",
    "location = 0\n",
    "in_valley = False\n",
    "\n",
    "# Iterating through the string, changing the location for each iteration and evaluating if we are getting into or out of a valley\n",
    "# with the 3rd and 4th ifs. \n",
    "for letter in path:\n",
    "    if letter == 'U':\n",
    "        location += 1\n",
    "    if letter == 'D':\n",
    "        location -= 1\n",
    "    if location == -1 and in_valley == False:\n",
    "        in_valley = True\n",
    "    if location == 0 and in_valley == True:\n",
    "        valleys += 1\n",
    "        in_valley = False\n",
    "    \n",
    "print(valleys)    "
   ]
  }
 ],
 "metadata": {
  "kernelspec": {
   "display_name": "Python 3",
   "language": "python",
   "name": "python3"
  },
  "language_info": {
   "codemirror_mode": {
    "name": "ipython",
    "version": 3
   },
   "file_extension": ".py",
   "mimetype": "text/x-python",
   "name": "python",
   "nbconvert_exporter": "python",
   "pygments_lexer": "ipython3",
   "version": "3.9.5"
  }
 },
 "nbformat": 4,
 "nbformat_minor": 5
}
