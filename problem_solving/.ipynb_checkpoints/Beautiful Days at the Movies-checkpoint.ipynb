{
 "cells": [
  {
   "cell_type": "code",
   "execution_count": 1,
   "id": "7eb9b2d0",
   "metadata": {},
   "outputs": [],
   "source": [
    "#Declaring variables\n",
    "i = 20\n",
    "j = 23\n",
    "k = 6"
   ]
  },
  {
   "cell_type": "code",
   "execution_count": 2,
   "id": "6318dae2",
   "metadata": {},
   "outputs": [
    {
     "name": "stdout",
     "output_type": "stream",
     "text": [
      "2\n"
     ]
    }
   ],
   "source": [
    "#Variable for storing the count of days\n",
    "beaut = 0\n",
    "#Iterate trough the range between i and k.\n",
    "for day in range(i,j,1):\n",
    "    #Convert day to string\n",
    "    day_in = str(day)\n",
    "    #Invert the string\n",
    "    day_in = day_in[::-1]\n",
    "    #Convert back to int\n",
    "    day_in = int(day_in)\n",
    "    #Check if the day is beautiful\n",
    "    if abs(day-day_in)%k == 0:\n",
    "        beaut +=1\n",
    "\n",
    "print(beaut)"
   ]
  }
 ],
 "metadata": {
  "kernelspec": {
   "display_name": "Python 3",
   "language": "python",
   "name": "python3"
  },
  "language_info": {
   "codemirror_mode": {
    "name": "ipython",
    "version": 3
   },
   "file_extension": ".py",
   "mimetype": "text/x-python",
   "name": "python",
   "nbconvert_exporter": "python",
   "pygments_lexer": "ipython3",
   "version": "3.9.7"
  }
 },
 "nbformat": 4,
 "nbformat_minor": 5
}
