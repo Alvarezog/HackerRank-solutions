{
 "cells": [
  {
   "cell_type": "code",
   "execution_count": 28,
   "id": "125a13ab",
   "metadata": {},
   "outputs": [],
   "source": [
    "# Declaring variable for threshold and arrival time list.\n",
    "k = 3\n",
    "a = [0,-1,2,1]"
   ]
  },
  {
   "cell_type": "code",
   "execution_count": 29,
   "id": "86da8700",
   "metadata": {
    "scrolled": true
   },
   "outputs": [
    {
     "name": "stdout",
     "output_type": "stream",
     "text": [
      "No\n"
     ]
    }
   ],
   "source": [
    "# Count elements lesser than 0 and store in variable x\n",
    "x = sum(1 if i <= 0 else 0 for i in a)\n",
    "\n",
    "#If the threshold is bigger than the count then return Yes else No\n",
    "print('Yes' if k > x else 'No')"
   ]
  },
  {
   "cell_type": "code",
   "execution_count": 30,
   "id": "cf2a6012",
   "metadata": {},
   "outputs": [
    {
     "data": {
      "text/plain": [
       "2"
      ]
     },
     "execution_count": 30,
     "metadata": {},
     "output_type": "execute_result"
    }
   ],
   "source": [
    "x"
   ]
  }
 ],
 "metadata": {
  "kernelspec": {
   "display_name": "Python 3",
   "language": "python",
   "name": "python3"
  },
  "language_info": {
   "codemirror_mode": {
    "name": "ipython",
    "version": 3
   },
   "file_extension": ".py",
   "mimetype": "text/x-python",
   "name": "python",
   "nbconvert_exporter": "python",
   "pygments_lexer": "ipython3",
   "version": "3.9.7"
  }
 },
 "nbformat": 4,
 "nbformat_minor": 5
}
