{
 "cells": [
  {
   "cell_type": "code",
   "execution_count": 1,
   "id": "5fdf68c9",
   "metadata": {},
   "outputs": [],
   "source": [
    "# Building the two lists with the data\n",
    "\n",
    "n = [100,100, 50, 40, 40, 20, 10]\n",
    "m = [5, 25, 50, 120]"
   ]
  },
  {
   "cell_type": "code",
   "execution_count": null,
   "id": "62e7ffde",
   "metadata": {},
   "outputs": [],
   "source": []
  }
 ],
 "metadata": {
  "kernelspec": {
   "display_name": "Python 3",
   "language": "python",
   "name": "python3"
  },
  "language_info": {
   "codemirror_mode": {
    "name": "ipython",
    "version": 3
   },
   "file_extension": ".py",
   "mimetype": "text/x-python",
   "name": "python",
   "nbconvert_exporter": "python",
   "pygments_lexer": "ipython3",
   "version": "3.9.7"
  }
 },
 "nbformat": 4,
 "nbformat_minor": 5
}
