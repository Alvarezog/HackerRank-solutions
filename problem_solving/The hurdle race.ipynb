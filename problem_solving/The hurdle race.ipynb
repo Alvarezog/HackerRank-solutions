{
 "cells": [
  {
   "cell_type": "code",
   "execution_count": 5,
   "id": "6bec8d32",
   "metadata": {},
   "outputs": [],
   "source": [
    "#Declaring problem variables.\n",
    "k = 4\n",
    "height = [1, 6, 3, 5, 2]"
   ]
  },
  {
   "cell_type": "code",
   "execution_count": 6,
   "id": "74b48bee",
   "metadata": {},
   "outputs": [
    {
     "name": "stdout",
     "output_type": "stream",
     "text": [
      "2\n"
     ]
    }
   ],
   "source": [
    "#Obtaining the maximum number in the array and resting the jumping capabilities.\n",
    "potions = max(heigth) - k\n",
    "#Printing the number of potions if the value is bigger or equal to zero, else print 0.\n",
    "print(potions if potions >= 0 else 0)"
   ]
  },
  {
   "cell_type": "code",
   "execution_count": 7,
   "id": "b12570c1",
   "metadata": {},
   "outputs": [
    {
     "name": "stdout",
     "output_type": "stream",
     "text": [
      "2\n"
     ]
    }
   ],
   "source": [
    "#One liner\n",
    "print(max(height) - k if max(height) - k >= 0 else 0)"
   ]
  }
 ],
 "metadata": {
  "kernelspec": {
   "display_name": "Python 3",
   "language": "python",
   "name": "python3"
  },
  "language_info": {
   "codemirror_mode": {
    "name": "ipython",
    "version": 3
   },
   "file_extension": ".py",
   "mimetype": "text/x-python",
   "name": "python",
   "nbconvert_exporter": "python",
   "pygments_lexer": "ipython3",
   "version": "3.9.7"
  }
 },
 "nbformat": 4,
 "nbformat_minor": 5
}
