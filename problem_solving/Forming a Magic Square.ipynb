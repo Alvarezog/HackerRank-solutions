{
 "cells": [
  {
   "cell_type": "code",
   "execution_count": 2,
   "id": "4bc145e9",
   "metadata": {},
   "outputs": [],
   "source": [
    "#Importing libraries\n",
    "import numpy as np"
   ]
  },
  {
   "cell_type": "code",
   "execution_count": 4,
   "id": "e0908020",
   "metadata": {},
   "outputs": [],
   "source": [
    "#Declaring list of lists for the square\n",
    "s = [[5, 3, 4], [1, 5, 8], [6, 4, 2]]"
   ]
  },
  {
   "cell_type": "code",
   "execution_count": 5,
   "id": "28dd6798",
   "metadata": {},
   "outputs": [],
   "source": [
    "#Convert s to numpy array\n",
    "s2 = np.array(s)"
   ]
  },
  {
   "cell_type": "code",
   "execution_count": 7,
   "id": "11929d5f",
   "metadata": {},
   "outputs": [
    {
     "data": {
      "text/plain": [
       "13"
      ]
     },
     "execution_count": 7,
     "metadata": {},
     "output_type": "execute_result"
    }
   ],
   "source": [
    "round(s2.sum()/3)"
   ]
  },
  {
   "cell_type": "code",
   "execution_count": null,
   "id": "346dcbf2",
   "metadata": {},
   "outputs": [],
   "source": []
  }
 ],
 "metadata": {
  "kernelspec": {
   "display_name": "Python 3",
   "language": "python",
   "name": "python3"
  },
  "language_info": {
   "codemirror_mode": {
    "name": "ipython",
    "version": 3
   },
   "file_extension": ".py",
   "mimetype": "text/x-python",
   "name": "python",
   "nbconvert_exporter": "python",
   "pygments_lexer": "ipython3",
   "version": "3.9.7"
  }
 },
 "nbformat": 4,
 "nbformat_minor": 5
}
